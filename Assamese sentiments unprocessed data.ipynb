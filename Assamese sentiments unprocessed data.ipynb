{
 "cells": [
  {
   "cell_type": "code",
   "execution_count": 2,
   "id": "926e9cbd",
   "metadata": {},
   "outputs": [],
   "source": [
    "import pandas as pd\n",
    "import numpy as np\n",
    "df=pd.read_csv(\"C:\\\\Users\\\\Dell\\\\Documents\\\\Assamese_Sentiments.csv\")"
   ]
  },
  {
   "cell_type": "code",
   "execution_count": 3,
   "id": "62c3a031",
   "metadata": {},
   "outputs": [
    {
     "data": {
      "text/html": [
       "<div>\n",
       "<style scoped>\n",
       "    .dataframe tbody tr th:only-of-type {\n",
       "        vertical-align: middle;\n",
       "    }\n",
       "\n",
       "    .dataframe tbody tr th {\n",
       "        vertical-align: top;\n",
       "    }\n",
       "\n",
       "    .dataframe thead th {\n",
       "        text-align: right;\n",
       "    }\n",
       "</style>\n",
       "<table border=\"1\" class=\"dataframe\">\n",
       "  <thead>\n",
       "    <tr style=\"text-align: right;\">\n",
       "      <th></th>\n",
       "      <th>Assamese Text</th>\n",
       "      <th>Sentiments</th>\n",
       "    </tr>\n",
       "  </thead>\n",
       "  <tbody>\n",
       "    <tr>\n",
       "      <th>0</th>\n",
       "      <td>কিছুমান ইস্ৰায়েলে কেনে ধৰণৰ অন্যায়পূৰ্ণ কাৰ্য্...</td>\n",
       "      <td>Negative</td>\n",
       "    </tr>\n",
       "    <tr>\n",
       "      <th>1</th>\n",
       "      <td>বৰ্তমান পশ্চিম বংগৰ বিজেপিৰ মহাসচিব হিচাপে কাৰ...</td>\n",
       "      <td>Neutral</td>\n",
       "    </tr>\n",
       "    <tr>\n",
       "      <th>2</th>\n",
       "      <td>নতুন ফোল্ডাৰ `%s' নিৰ্মাণ কৰা সম্ভব নহয়</td>\n",
       "      <td>Neutral</td>\n",
       "    </tr>\n",
       "    <tr>\n",
       "      <th>3</th>\n",
       "      <td>তাৰবাবে আমাৰ দেশৰ যুবশক্তিক আমি চাকৰি প্ৰত্যাশ...</td>\n",
       "      <td>Neutral</td>\n",
       "    </tr>\n",
       "    <tr>\n",
       "      <th>4</th>\n",
       "      <td>মই ইয়াত আছো!</td>\n",
       "      <td>Neutral</td>\n",
       "    </tr>\n",
       "    <tr>\n",
       "      <th>...</th>\n",
       "      <td>...</td>\n",
       "      <td>...</td>\n",
       "    </tr>\n",
       "    <tr>\n",
       "      <th>120916</th>\n",
       "      <td>ব্যৱহাৰকৰোঁতাৰ গৃহস্থৰনামৰ বিষয়ে প্ৰমাণীকৰণ প্...</td>\n",
       "      <td>Neutral</td>\n",
       "    </tr>\n",
       "    <tr>\n",
       "      <th>120917</th>\n",
       "      <td>তেওঁৰ দেউতাকৰ নাম আছিল ৰাধিকা ৰঞ্জন ব্ৰহ্ম আৰু...</td>\n",
       "      <td>Neutral</td>\n",
       "    </tr>\n",
       "    <tr>\n",
       "      <th>120918</th>\n",
       "      <td>“আমি ইয়াত প্ৰত্যেকৰ বাবে সম্পূৰ্ণ নিৰাপত্তা বি...</td>\n",
       "      <td>Neutral</td>\n",
       "    </tr>\n",
       "    <tr>\n",
       "      <th>120919</th>\n",
       "      <td>ভাৰত আৰু ভিয়েটনামৰ মাজৰ বন্ধুত্বপূৰ্ণ সম্পৰ্কক...</td>\n",
       "      <td>Neutral</td>\n",
       "    </tr>\n",
       "    <tr>\n",
       "      <th>120920</th>\n",
       "      <td>এটা বৈধ কি' চাৰ্ভাৰৰ ঠিকনা নহয়</td>\n",
       "      <td>Neutral</td>\n",
       "    </tr>\n",
       "  </tbody>\n",
       "</table>\n",
       "<p>120921 rows × 2 columns</p>\n",
       "</div>"
      ],
      "text/plain": [
       "                                            Assamese Text Sentiments\n",
       "0       কিছুমান ইস্ৰায়েলে কেনে ধৰণৰ অন্যায়পূৰ্ণ কাৰ্য্...   Negative\n",
       "1       বৰ্তমান পশ্চিম বংগৰ বিজেপিৰ মহাসচিব হিচাপে কাৰ...    Neutral\n",
       "2                 নতুন ফোল্ডাৰ `%s' নিৰ্মাণ কৰা সম্ভব নহয়    Neutral\n",
       "3       তাৰবাবে আমাৰ দেশৰ যুবশক্তিক আমি চাকৰি প্ৰত্যাশ...    Neutral\n",
       "4                                            মই ইয়াত আছো!    Neutral\n",
       "...                                                   ...        ...\n",
       "120916  ব্যৱহাৰকৰোঁতাৰ গৃহস্থৰনামৰ বিষয়ে প্ৰমাণীকৰণ প্...    Neutral\n",
       "120917  তেওঁৰ দেউতাকৰ নাম আছিল ৰাধিকা ৰঞ্জন ব্ৰহ্ম আৰু...    Neutral\n",
       "120918  “আমি ইয়াত প্ৰত্যেকৰ বাবে সম্পূৰ্ণ নিৰাপত্তা বি...    Neutral\n",
       "120919  ভাৰত আৰু ভিয়েটনামৰ মাজৰ বন্ধুত্বপূৰ্ণ সম্পৰ্কক...    Neutral\n",
       "120920                     এটা বৈধ কি' চাৰ্ভাৰৰ ঠিকনা নহয়    Neutral\n",
       "\n",
       "[120921 rows x 2 columns]"
      ]
     },
     "execution_count": 3,
     "metadata": {},
     "output_type": "execute_result"
    }
   ],
   "source": [
    "df"
   ]
  },
  {
   "cell_type": "code",
   "execution_count": null,
   "id": "39d5a3b1",
   "metadata": {},
   "outputs": [],
   "source": []
  },
  {
   "cell_type": "code",
   "execution_count": 4,
   "id": "83ded7d9",
   "metadata": {},
   "outputs": [
    {
     "data": {
      "text/plain": [
       "Assamese Text    0\n",
       "Sentiments       0\n",
       "dtype: int64"
      ]
     },
     "execution_count": 4,
     "metadata": {},
     "output_type": "execute_result"
    }
   ],
   "source": [
    "df.isnull() .sum()"
   ]
  },
  {
   "cell_type": "code",
   "execution_count": 5,
   "id": "9b09dc74",
   "metadata": {},
   "outputs": [
    {
     "data": {
      "text/plain": [
       "Sentiments\n",
       "Neutral     74730\n",
       "Positive    32844\n",
       "Negative    13347\n",
       "Name: count, dtype: int64"
      ]
     },
     "execution_count": 5,
     "metadata": {},
     "output_type": "execute_result"
    }
   ],
   "source": [
    "df.Sentiments.value_counts()"
   ]
  },
  {
   "cell_type": "code",
   "execution_count": 6,
   "id": "aa707f02",
   "metadata": {},
   "outputs": [],
   "source": [
    "from sklearn.preprocessing import LabelEncoder \n",
    "\n",
    "le = LabelEncoder()\n",
    "\n",
    "df.Sentiments=le.fit_transform(df.Sentiments)"
   ]
  },
  {
   "cell_type": "code",
   "execution_count": 7,
   "id": "c7d5650a",
   "metadata": {},
   "outputs": [
    {
     "data": {
      "text/plain": [
       "0         0\n",
       "1         1\n",
       "2         1\n",
       "3         1\n",
       "4         1\n",
       "         ..\n",
       "120916    1\n",
       "120917    1\n",
       "120918    1\n",
       "120919    1\n",
       "120920    1\n",
       "Name: Sentiments, Length: 120921, dtype: int32"
      ]
     },
     "execution_count": 7,
     "metadata": {},
     "output_type": "execute_result"
    }
   ],
   "source": [
    "df.Sentiments"
   ]
  },
  {
   "cell_type": "code",
   "execution_count": 8,
   "id": "4f617d42",
   "metadata": {},
   "outputs": [
    {
     "data": {
      "text/plain": [
       "2"
      ]
     },
     "execution_count": 8,
     "metadata": {},
     "output_type": "execute_result"
    }
   ],
   "source": [
    "df.Sentiments[24]"
   ]
  },
  {
   "cell_type": "code",
   "execution_count": 9,
   "id": "cae30569",
   "metadata": {},
   "outputs": [],
   "source": [
    "from sklearn.feature_extraction.text import TfidfVectorizer\n",
    "df = df.dropna()\n",
    "vectorizer = TfidfVectorizer(max_features=4000)  # Ajusta según tus necesidades\n",
    "X = vectorizer.fit_transform(df['Assamese Text'])\n",
    "y = df.Sentiments\n",
    "X = X.toarray()"
   ]
  },
  {
   "cell_type": "code",
   "execution_count": 10,
   "id": "09f70336",
   "metadata": {},
   "outputs": [
    {
     "data": {
      "text/plain": [
       "array([[0., 0., 0., ..., 0., 0., 0.],\n",
       "       [0., 0., 0., ..., 0., 0., 0.],\n",
       "       [0., 0., 0., ..., 0., 0., 0.],\n",
       "       ...,\n",
       "       [0., 0., 0., ..., 0., 0., 0.],\n",
       "       [0., 0., 0., ..., 0., 0., 0.],\n",
       "       [0., 0., 0., ..., 0., 0., 0.]])"
      ]
     },
     "execution_count": 10,
     "metadata": {},
     "output_type": "execute_result"
    }
   ],
   "source": [
    "X"
   ]
  },
  {
   "cell_type": "code",
   "execution_count": 11,
   "id": "6865e122",
   "metadata": {},
   "outputs": [],
   "source": [
    "from sklearn.model_selection import train_test_split\n",
    "\n",
    "X_train, X_test, y_train, y_test = train_test_split(X, y, test_size=0.25, random_state=42)"
   ]
  },
  {
   "cell_type": "code",
   "execution_count": 12,
   "id": "5deb12c8",
   "metadata": {},
   "outputs": [
    {
     "name": "stdout",
     "output_type": "stream",
     "text": [
      "WARNING:tensorflow:From C:\\Users\\Dell\\anaconda3\\Lib\\site-packages\\keras\\src\\backend.py:873: The name tf.get_default_graph is deprecated. Please use tf.compat.v1.get_default_graph instead.\n",
      "\n",
      "WARNING:tensorflow:From C:\\Users\\Dell\\anaconda3\\Lib\\site-packages\\keras\\src\\optimizers\\__init__.py:309: The name tf.train.Optimizer is deprecated. Please use tf.compat.v1.train.Optimizer instead.\n",
      "\n",
      "Epoch 1/5\n",
      "WARNING:tensorflow:From C:\\Users\\Dell\\anaconda3\\Lib\\site-packages\\keras\\src\\utils\\tf_utils.py:492: The name tf.ragged.RaggedTensorValue is deprecated. Please use tf.compat.v1.ragged.RaggedTensorValue instead.\n",
      "\n",
      "WARNING:tensorflow:From C:\\Users\\Dell\\anaconda3\\Lib\\site-packages\\keras\\src\\engine\\base_layer_utils.py:384: The name tf.executing_eagerly_outside_functions is deprecated. Please use tf.compat.v1.executing_eagerly_outside_functions instead.\n",
      "\n",
      "2835/2835 [==============================] - 14s 5ms/step - loss: -11322.5137 - accuracy: 0.6179\n",
      "Epoch 2/5\n",
      "2835/2835 [==============================] - 11s 4ms/step - loss: -117796.2031 - accuracy: 0.6180\n",
      "Epoch 3/5\n",
      "2835/2835 [==============================] - 11s 4ms/step - loss: -393654.4062 - accuracy: 0.6180\n",
      "Epoch 4/5\n",
      "2835/2835 [==============================] - 11s 4ms/step - loss: -890506.8750 - accuracy: 0.6180\n",
      "Epoch 5/5\n",
      "2835/2835 [==============================] - 12s 4ms/step - loss: -1649576.2500 - accuracy: 0.6180\n",
      "945/945 [==============================] - 2s 1ms/step\n",
      "--------------------------------------\n",
      "Accuracy Score: 0.62\n"
     ]
    }
   ],
   "source": [
    "import tensorflow as tf\n",
    "\n",
    "from sklearn.metrics import accuracy_score\n",
    "\n",
    "\n",
    "model = tf.keras.models.Sequential([\n",
    "    tf.keras.layers.Dense(128, activation='gelu', input_shape=(X.shape[1],)),\n",
    "    tf.keras.layers.Dense(64, activation='gelu'),\n",
    "    tf.keras.layers.Dense(1, activation='sigmoid')  # Cambiar según el tipo de problema\n",
    "])\n",
    "\n",
    "model.compile(optimizer='adam', loss='binary_crossentropy', metrics=['accuracy'])\n",
    "\n",
    "model.fit(X_train, y_train, epochs=5, batch_size=32)\n",
    "y_pred = model.predict(X_test)\n",
    "y_pred = np.round(y_pred)\n",
    "score = accuracy_score(y_pred, y_test)\n",
    "print(f\"--------------------------------------\\nAccuracy Score: {score:.2f}\" )"
   ]
  },
  {
   "cell_type": "code",
   "execution_count": null,
   "id": "031b8c5a",
   "metadata": {},
   "outputs": [],
   "source": []
  },
  {
   "cell_type": "code",
   "execution_count": 13,
   "id": "3a12a9ef",
   "metadata": {},
   "outputs": [
    {
     "data": {
      "text/plain": [
       "array([[1.],\n",
       "       [1.],\n",
       "       [1.],\n",
       "       ...,\n",
       "       [1.],\n",
       "       [1.],\n",
       "       [1.]], dtype=float32)"
      ]
     },
     "execution_count": 13,
     "metadata": {},
     "output_type": "execute_result"
    }
   ],
   "source": [
    "y_pred"
   ]
  },
  {
   "cell_type": "code",
   "execution_count": 14,
   "id": "2e36a061",
   "metadata": {},
   "outputs": [
    {
     "data": {
      "text/plain": [
       "107492    1\n",
       "22868     0\n",
       "32589     0\n",
       "10238     0\n",
       "105518    1\n",
       "         ..\n",
       "92966     1\n",
       "21611     1\n",
       "14168     1\n",
       "41223     2\n",
       "58888     1\n",
       "Name: Sentiments, Length: 30231, dtype: int32"
      ]
     },
     "execution_count": 14,
     "metadata": {},
     "output_type": "execute_result"
    }
   ],
   "source": [
    "y_test\n"
   ]
  },
  {
   "cell_type": "code",
   "execution_count": 15,
   "id": "8dd42daa",
   "metadata": {},
   "outputs": [],
   "source": [
    "from sklearn.feature_extraction.text import TfidfVectorizer\n",
    "corpus=[\n",
    "    'কিছুমান ইস্ৰায়েলে কেনে ধৰণৰ অন্যায়পূৰ্ণ কাৰ্য্.',\n",
    "    'নতুন ফোল্ডাৰ  নিৰ্মাণ কৰা সম্ভব নহয়',\n",
    "]"
   ]
  },
  {
   "cell_type": "code",
   "execution_count": 16,
   "id": "6634022e",
   "metadata": {},
   "outputs": [],
   "source": [
    "\n",
    "vectorizer = TfidfVectorizer()\n",
    "X = vectorizer.fit_transform(corpus)"
   ]
  },
  {
   "cell_type": "code",
   "execution_count": 17,
   "id": "8808aae3",
   "metadata": {},
   "outputs": [
    {
     "ename": "AttributeError",
     "evalue": "'TfidfVectorizer' object has no attribute 'get_feature_names'",
     "output_type": "error",
     "traceback": [
      "\u001b[1;31m---------------------------------------------------------------------------\u001b[0m",
      "\u001b[1;31mAttributeError\u001b[0m                            Traceback (most recent call last)",
      "Cell \u001b[1;32mIn[17], line 1\u001b[0m\n\u001b[1;32m----> 1\u001b[0m vectorizer\u001b[38;5;241m.\u001b[39mget_feature_names()\n",
      "\u001b[1;31mAttributeError\u001b[0m: 'TfidfVectorizer' object has no attribute 'get_feature_names'"
     ]
    }
   ],
   "source": [
    "vectorizer.get_feature_names()"
   ]
  },
  {
   "cell_type": "code",
   "execution_count": 18,
   "id": "6f5d95cc",
   "metadata": {},
   "outputs": [
    {
     "name": "stdout",
     "output_type": "stream",
     "text": [
      "['অন' 'ইস' 'কৰ' 'ধৰণৰ' 'নত' 'নহয়' 'ভব' 'সম' 'য়প']\n"
     ]
    }
   ],
   "source": [
    "from sklearn.feature_extraction.text import TfidfVectorizer\n",
    "\n",
    "# Example data\n",
    "corpus = ['কিছুমান ইস্ৰায়েলে কেনে ধৰণৰ অন্যায়পূৰ্ণ কাৰ্য্.',\n",
    "    'নতুন ফোল্ডাৰ  নিৰ্মাণ কৰা সম্ভব নহয়']\n",
    "\n",
    "# Create TfidfVectorizer\n",
    "tfidf_vectorizer = TfidfVectorizer()\n",
    "\n",
    "# Fit-transform the corpus\n",
    "tfidf_matrix = tfidf_vectorizer.fit_transform(corpus)\n",
    "\n",
    "# Get feature names\n",
    "feature_names = tfidf_vectorizer.get_feature_names_out()\n",
    "\n",
    "# Print feature names\n",
    "print(feature_names)\n"
   ]
  },
  {
   "cell_type": "code",
   "execution_count": null,
   "id": "e192a3c5",
   "metadata": {},
   "outputs": [],
   "source": []
  }
 ],
 "metadata": {
  "kernelspec": {
   "display_name": "Python 3 (ipykernel)",
   "language": "python",
   "name": "python3"
  },
  "language_info": {
   "codemirror_mode": {
    "name": "ipython",
    "version": 3
   },
   "file_extension": ".py",
   "mimetype": "text/x-python",
   "name": "python",
   "nbconvert_exporter": "python",
   "pygments_lexer": "ipython3",
   "version": "3.11.5"
  }
 },
 "nbformat": 4,
 "nbformat_minor": 5
}
